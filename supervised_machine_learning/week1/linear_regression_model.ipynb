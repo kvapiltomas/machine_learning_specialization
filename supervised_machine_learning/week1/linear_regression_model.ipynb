{
 "cells": [
  {
   "cell_type": "code",
   "execution_count": 97,
   "metadata": {},
   "outputs": [],
   "source": [
    "import numpy as np\n",
    "import matplotlib.pyplot as plt\n",
    "\n",
    "plt.style.use('fast')"
   ]
  },
  {
   "cell_type": "code",
   "execution_count": 98,
   "metadata": {},
   "outputs": [
    {
     "name": "stdout",
     "output_type": "stream",
     "text": [
      "X_train = [1. 2.]\n",
      "y_train = [300. 500.]\n"
     ]
    }
   ],
   "source": [
    "X_train = np.array([1.0, 2.0])\n",
    "y_train = np.array([300.0, 500.0])\n",
    "\n",
    "print(f'X_train = {X_train}')\n",
    "print(f'y_train = {y_train}')"
   ]
  },
  {
   "cell_type": "code",
   "execution_count": 9,
   "metadata": {},
   "outputs": [
    {
     "name": "stdout",
     "output_type": "stream",
     "text": [
      "X_train shape = (2,)\n",
      "Number of training examples is: 2\n"
     ]
    }
   ],
   "source": [
    "print(f'X_train shape = {X_train.shape}')\n",
    "m = X_train.shape[0]\n",
    "print(f'Number of training examples is: {m}')"
   ]
  },
  {
   "cell_type": "code",
   "execution_count": 16,
   "metadata": {},
   "outputs": [
    {
     "name": "stdout",
     "output_type": "stream",
     "text": [
      "x^(0), y^(0) = (1.0, 300.0)\n",
      "x^(1), y^(1) = (2.0, 500.0)\n"
     ]
    }
   ],
   "source": [
    "for i in range(m):\n",
    "    print(f'x^({i}), y^({i}) = ({X_train[i]}, {y_train[i]})')"
   ]
  },
  {
   "cell_type": "code",
   "execution_count": 82,
   "metadata": {},
   "outputs": [],
   "source": [
    "def generate_scatter_plot(x, y, marker='x', c='b', title='', x_label=None, y_label=None):\n",
    "    plt.scatter(x, y, marker = marker, c = c)\n",
    "    if title is not None:\n",
    "        plt.title(title)\n",
    "    if x_label is not None:  \n",
    "        plt.xlabel(x_label)  \n",
    "    if y_label is not None:      \n",
    "        plt.ylabel(y_label)\n",
    "    plt.show()"
   ]
  },
  {
   "cell_type": "code",
   "execution_count": 92,
   "metadata": {},
   "outputs": [],
   "source": [
    "w = 200\n",
    "b = 100\n",
    "\n",
    "def compute_prediction(x, w, b):\n",
    "    m = x.shape[0]\n",
    "    f_wb = np.zeros(2)\n",
    "    for i in range(m):\n",
    "        f_wb[i] = w * x[i] + b\n",
    "    return f_wb"
   ]
  },
  {
   "cell_type": "code",
   "execution_count": 93,
   "metadata": {},
   "outputs": [],
   "source": [
    "out_f_wb = compute_prediction(X_train, w, b)"
   ]
  },
  {
   "cell_type": "code",
   "execution_count": 94,
   "metadata": {},
   "outputs": [
    {
     "data": {
      "image/png": "[encoded data removed]",
      "text/plain": [
       "<Figure size 432x288 with 1 Axes>"
      ]
     },
     "metadata": {
      "needs_background": "light"
     },
     "output_type": "display_data"
    }
   ],
   "source": [
    "plt.plot(X_train, out_f_wb, c='r', label='Predictions')\n",
    "plt.scatter(X_train, y_train, c='b', marker= 'x', label='Actual Values')\n",
    "plt.title('Housing Prices')\n",
    "# Set the y-axis label\n",
    "plt.ylabel('Price, thousands $')\n",
    "# Set the x-axis label\n",
    "plt.xlabel('Size of House, thousands sq feat')\n",
    "plt.legend()\n",
    "plt.show()\n"
   ]
  },
  {
   "cell_type": "code",
   "execution_count": 96,
   "metadata": {},
   "outputs": [
    {
     "name": "stdout",
     "output_type": "stream",
     "text": [
      "Price of 1200sqft appartment should be 340.0k $\n"
     ]
    }
   ],
   "source": [
    "x_i = 1.2\n",
    "price_1200sqft = w * x_i + b\n",
    "print('Price of 1200sqft appartment should be {}k $'.format(price_1200sqft))"
   ]
  },
  {
   "cell_type": "code",
   "execution_count": null,
   "metadata": {},
   "outputs": [],
   "source": []
  }
 ],
 "metadata": {
  "kernelspec": {
   "display_name": "Python 3.9.7 ('base')",
   "language": "python",
   "name": "python3"
  },
  "language_info": {
   "codemirror_mode": {
    "name": "ipython",
    "version": 3
   },
   "file_extension": ".py",
   "mimetype": "text/x-python",
   "name": "python",
   "nbconvert_exporter": "python",
   "pygments_lexer": "ipython3",
   "version": "3.9.7"
  },
  "orig_nbformat": 4,
  "vscode": {
   "interpreter": {
    "hash": "dfb17d3d63b1f01241dc6860688cd532d3cc049680ee6e21a2a3b0c0a02bb0d5"
   }
  }
 },
 "nbformat": 4,
 "nbformat_minor": 2
}
